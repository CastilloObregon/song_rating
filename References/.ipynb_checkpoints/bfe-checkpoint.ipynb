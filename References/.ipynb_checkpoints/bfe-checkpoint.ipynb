{
 "cells": [
  {
   "cell_type": "code",
   "execution_count": 3,
   "metadata": {},
   "outputs": [],
   "source": [
    "\n",
    "%matplotlib inline\n",
    "from pathlib import Path\n",
    "import numpy, scipy, matplotlib.pyplot as plt, sklearn, urllib, IPython.display as ipd\n",
    "import librosa, librosa.display\n",
    "import stanford_mir; stanford_mir.init()"
   ]
  },
  {
   "cell_type": "code",
   "execution_count": 4,
   "metadata": {},
   "outputs": [],
   "source": [
    "kick_signals = [\n",
    "    librosa.load(p)[0] for p in Path().glob('../Audios/*.wav')\n",
    "]\n"
   ]
  },
  {
   "cell_type": "code",
   "execution_count": null,
   "metadata": {},
   "outputs": [],
   "source": [
    "len(kick_signals)\n"
   ]
  },
  {
   "cell_type": "code",
   "execution_count": null,
   "metadata": {},
   "outputs": [],
   "source": [
    "plt.figure(figsize=(15, 6))\n",
    "for i, x in enumerate(kick_signals):\n",
    "    plt.subplot(2, 5, i+1)\n",
    "    librosa.display.waveplot(x[:10000])\n",
    "    plt.ylim(-1, 1)"
   ]
  },
  {
   "cell_type": "code",
   "execution_count": null,
   "metadata": {},
   "outputs": [],
   "source": [
    "def extract_features(signal):\n",
    "    return [\n",
    "        librosa.feature.zero_crossing_rate(signal)[0, 0],\n",
    "        librosa.feature.spectral_centroid(signal)[0, 0],\n",
    "    ]"
   ]
  },
  {
   "cell_type": "code",
   "execution_count": null,
   "metadata": {},
   "outputs": [],
   "source": [
    "kick_features = numpy.array([extract_features(x) for x in kick_signals])"
   ]
  },
  {
   "cell_type": "code",
   "execution_count": null,
   "metadata": {},
   "outputs": [],
   "source": [
    "plt.figure(figsize=(14, 5))\n",
    "plt.hist(kick_features[:,0], color='b', range=(0, 0.2), alpha=0.5, bins=20)\n",
    "# plt.hist(snare_features[:,0], color='r', range=(0, 0.2), alpha=0.5, bins=20)\n",
    "plt.legend(('kicks'))\n",
    "plt.xlabel('Zero Crossing Rate')\n",
    "plt.ylabel('Count')"
   ]
  },
  {
   "cell_type": "code",
   "execution_count": null,
   "metadata": {},
   "outputs": [],
   "source": []
  },
  {
   "cell_type": "code",
   "execution_count": null,
   "metadata": {},
   "outputs": [],
   "source": []
  }
 ],
 "metadata": {
  "kernelspec": {
   "display_name": "Python 3",
   "language": "python",
   "name": "python3"
  },
  "language_info": {
   "codemirror_mode": {
    "name": "ipython",
    "version": 3
   },
   "file_extension": ".py",
   "mimetype": "text/x-python",
   "name": "python",
   "nbconvert_exporter": "python",
   "pygments_lexer": "ipython3",
   "version": "3.7.6"
  }
 },
 "nbformat": 4,
 "nbformat_minor": 2
}
